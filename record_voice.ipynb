{
 "cells": [
  {
   "cell_type": "code",
   "execution_count": 1,
   "metadata": {},
   "outputs": [
    {
     "name": "stdout",
     "output_type": "stream",
     "text": [
      "Recording ..\n",
      "Recording done..\n"
     ]
    }
   ],
   "source": [
    "# To Record the names of exercises\n",
    "\n",
    "import sounddevice as sd\n",
    "from scipy.io.wavfile import write\n",
    "\n",
    "fs = 44100  # Sample rate\n",
    "seconds = 2  # Duration of recording\n",
    "\n",
    "curr_file = 'leg_raises.wav'  # Name of the current exercise\n",
    "save_path = 'call_recording/' + curr_file  # saved in existing directory 'call_recording'\n",
    "\n",
    "myrecording = sd.rec(int(seconds * fs), samplerate=fs, channels=2)\n",
    "print('Recording ..')\n",
    "sd.wait()  # Wait until recording is finished\n",
    "print('Recording done..')\n",
    "write(save_path, fs, myrecording)  # Save as WAV file "
   ]
  }
 ],
 "metadata": {
  "kernelspec": {
   "display_name": "Python 3",
   "language": "python",
   "name": "python3"
  },
  "language_info": {
   "codemirror_mode": {
    "name": "ipython",
    "version": 3
   },
   "file_extension": ".py",
   "mimetype": "text/x-python",
   "name": "python",
   "nbconvert_exporter": "python",
   "pygments_lexer": "ipython3",
   "version": "3.7.6"
  }
 },
 "nbformat": 4,
 "nbformat_minor": 4
}
